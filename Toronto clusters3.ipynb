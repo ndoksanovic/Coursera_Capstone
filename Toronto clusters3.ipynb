{
    "cells": [
        {
            "cell_type": "markdown",
            "metadata": {},
            "source": "# 1. Creating Toronto neighborhoods dataframe"
        },
        {
            "cell_type": "code",
            "execution_count": 2,
            "metadata": {},
            "outputs": [],
            "source": "from bs4 import BeautifulSoup\nimport requests\nimport pandas as pd"
        },
        {
            "cell_type": "code",
            "execution_count": 3,
            "metadata": {},
            "outputs": [],
            "source": "List_url = \"https://en.wikipedia.org/wiki/List_of_postal_codes_of_Canada:_M\"\nsource = requests.get(List_url).text"
        },
        {
            "cell_type": "code",
            "execution_count": 4,
            "metadata": {},
            "outputs": [],
            "source": "soup = BeautifulSoup(source, 'xml')"
        },
        {
            "cell_type": "code",
            "execution_count": 5,
            "metadata": {},
            "outputs": [],
            "source": "table=soup.find('table')"
        },
        {
            "cell_type": "code",
            "execution_count": 6,
            "metadata": {},
            "outputs": [],
            "source": "column_names = ['Postalcode','Borough','Neighborhood']\ndf = pd.DataFrame(columns = column_names)"
        },
        {
            "cell_type": "code",
            "execution_count": 7,
            "metadata": {},
            "outputs": [],
            "source": "for tr_cell in table.find_all('tr'):\n    row_data=[]\n    for td_cell in tr_cell.find_all('td'):\n        row_data.append(td_cell.text.strip())\n    if len(row_data)==3:\n        df.loc[len(df)] = row_data"
        },
        {
            "cell_type": "code",
            "execution_count": 8,
            "metadata": {},
            "outputs": [
                {
                    "data": {
                        "text/html": "<div>\n<style scoped>\n    .dataframe tbody tr th:only-of-type {\n        vertical-align: middle;\n    }\n\n    .dataframe tbody tr th {\n        vertical-align: top;\n    }\n\n    .dataframe thead th {\n        text-align: right;\n    }\n</style>\n<table border=\"1\" class=\"dataframe\">\n  <thead>\n    <tr style=\"text-align: right;\">\n      <th></th>\n      <th>Postalcode</th>\n      <th>Borough</th>\n      <th>Neighborhood</th>\n    </tr>\n  </thead>\n  <tbody>\n    <tr>\n      <th>0</th>\n      <td>M1A</td>\n      <td>Not assigned</td>\n      <td>Not assigned</td>\n    </tr>\n    <tr>\n      <th>1</th>\n      <td>M2A</td>\n      <td>Not assigned</td>\n      <td>Not assigned</td>\n    </tr>\n    <tr>\n      <th>2</th>\n      <td>M3A</td>\n      <td>North York</td>\n      <td>Parkwoods</td>\n    </tr>\n    <tr>\n      <th>3</th>\n      <td>M4A</td>\n      <td>North York</td>\n      <td>Victoria Village</td>\n    </tr>\n    <tr>\n      <th>4</th>\n      <td>M5A</td>\n      <td>Downtown Toronto</td>\n      <td>Regent Park, Harbourfront</td>\n    </tr>\n  </tbody>\n</table>\n</div>",
                        "text/plain": "  Postalcode           Borough               Neighborhood\n0        M1A      Not assigned               Not assigned\n1        M2A      Not assigned               Not assigned\n2        M3A        North York                  Parkwoods\n3        M4A        North York           Victoria Village\n4        M5A  Downtown Toronto  Regent Park, Harbourfront"
                    },
                    "execution_count": 8,
                    "metadata": {},
                    "output_type": "execute_result"
                }
            ],
            "source": "df.head()"
        },
        {
            "cell_type": "code",
            "execution_count": 9,
            "metadata": {},
            "outputs": [],
            "source": "df=df[df['Borough']!='Not assigned']\ndf = df[df['Neighborhood']!='Not assigned']"
        },
        {
            "cell_type": "code",
            "execution_count": 10,
            "metadata": {},
            "outputs": [
                {
                    "data": {
                        "text/html": "<div>\n<style scoped>\n    .dataframe tbody tr th:only-of-type {\n        vertical-align: middle;\n    }\n\n    .dataframe tbody tr th {\n        vertical-align: top;\n    }\n\n    .dataframe thead th {\n        text-align: right;\n    }\n</style>\n<table border=\"1\" class=\"dataframe\">\n  <thead>\n    <tr style=\"text-align: right;\">\n      <th></th>\n      <th>Postalcode</th>\n      <th>Borough</th>\n      <th>Neighborhood</th>\n    </tr>\n  </thead>\n  <tbody>\n    <tr>\n      <th>2</th>\n      <td>M3A</td>\n      <td>North York</td>\n      <td>Parkwoods</td>\n    </tr>\n    <tr>\n      <th>3</th>\n      <td>M4A</td>\n      <td>North York</td>\n      <td>Victoria Village</td>\n    </tr>\n    <tr>\n      <th>4</th>\n      <td>M5A</td>\n      <td>Downtown Toronto</td>\n      <td>Regent Park, Harbourfront</td>\n    </tr>\n    <tr>\n      <th>5</th>\n      <td>M6A</td>\n      <td>North York</td>\n      <td>Lawrence Manor, Lawrence Heights</td>\n    </tr>\n    <tr>\n      <th>6</th>\n      <td>M7A</td>\n      <td>Downtown Toronto</td>\n      <td>Queen's Park, Ontario Provincial Government</td>\n    </tr>\n  </tbody>\n</table>\n</div>",
                        "text/plain": "  Postalcode           Borough                                 Neighborhood\n2        M3A        North York                                    Parkwoods\n3        M4A        North York                             Victoria Village\n4        M5A  Downtown Toronto                    Regent Park, Harbourfront\n5        M6A        North York             Lawrence Manor, Lawrence Heights\n6        M7A  Downtown Toronto  Queen's Park, Ontario Provincial Government"
                    },
                    "execution_count": 10,
                    "metadata": {},
                    "output_type": "execute_result"
                }
            ],
            "source": "df.head()"
        },
        {
            "cell_type": "code",
            "execution_count": 11,
            "metadata": {},
            "outputs": [],
            "source": "temp_df=df.groupby('Postalcode')['Neighborhood'].apply(lambda x: \"%s\" % ', '.join(x))\ntemp_df=temp_df.reset_index(drop=False)\ntemp_df.rename(columns={'Neighborhood':'Neighborhood_joined'},inplace=True)"
        },
        {
            "cell_type": "code",
            "execution_count": 12,
            "metadata": {},
            "outputs": [],
            "source": "df_merge = pd.merge(df, temp_df, on='Postalcode')"
        },
        {
            "cell_type": "code",
            "execution_count": 13,
            "metadata": {},
            "outputs": [],
            "source": "df_merge.drop(['Neighborhood'],axis=1,inplace=True)"
        },
        {
            "cell_type": "code",
            "execution_count": 14,
            "metadata": {},
            "outputs": [],
            "source": "df_merge.drop_duplicates(inplace=True)"
        },
        {
            "cell_type": "code",
            "execution_count": 15,
            "metadata": {},
            "outputs": [],
            "source": "df_merge.rename(columns={'Neighborhood_joined':'Neighborhood'},inplace=True)"
        },
        {
            "cell_type": "code",
            "execution_count": 16,
            "metadata": {},
            "outputs": [
                {
                    "data": {
                        "text/html": "<div>\n<style scoped>\n    .dataframe tbody tr th:only-of-type {\n        vertical-align: middle;\n    }\n\n    .dataframe tbody tr th {\n        vertical-align: top;\n    }\n\n    .dataframe thead th {\n        text-align: right;\n    }\n</style>\n<table border=\"1\" class=\"dataframe\">\n  <thead>\n    <tr style=\"text-align: right;\">\n      <th></th>\n      <th>Postalcode</th>\n      <th>Borough</th>\n      <th>Neighborhood</th>\n    </tr>\n  </thead>\n  <tbody>\n    <tr>\n      <th>0</th>\n      <td>M3A</td>\n      <td>North York</td>\n      <td>Parkwoods</td>\n    </tr>\n    <tr>\n      <th>1</th>\n      <td>M4A</td>\n      <td>North York</td>\n      <td>Victoria Village</td>\n    </tr>\n    <tr>\n      <th>2</th>\n      <td>M5A</td>\n      <td>Downtown Toronto</td>\n      <td>Regent Park, Harbourfront</td>\n    </tr>\n    <tr>\n      <th>3</th>\n      <td>M6A</td>\n      <td>North York</td>\n      <td>Lawrence Manor, Lawrence Heights</td>\n    </tr>\n    <tr>\n      <th>4</th>\n      <td>M7A</td>\n      <td>Downtown Toronto</td>\n      <td>Queen's Park, Ontario Provincial Government</td>\n    </tr>\n  </tbody>\n</table>\n</div>",
                        "text/plain": "  Postalcode           Borough                                 Neighborhood\n0        M3A        North York                                    Parkwoods\n1        M4A        North York                             Victoria Village\n2        M5A  Downtown Toronto                    Regent Park, Harbourfront\n3        M6A        North York             Lawrence Manor, Lawrence Heights\n4        M7A  Downtown Toronto  Queen's Park, Ontario Provincial Government"
                    },
                    "execution_count": 16,
                    "metadata": {},
                    "output_type": "execute_result"
                }
            ],
            "source": "df_merge.head()"
        },
        {
            "cell_type": "code",
            "execution_count": 18,
            "metadata": {},
            "outputs": [
                {
                    "data": {
                        "text/plain": "(103, 3)"
                    },
                    "execution_count": 18,
                    "metadata": {},
                    "output_type": "execute_result"
                }
            ],
            "source": "df_merge.shape"
        },
        {
            "cell_type": "markdown",
            "metadata": {},
            "source": "# 2. Creating Toronto Geospatial dataframe\n"
        },
        {
            "cell_type": "code",
            "execution_count": 19,
            "metadata": {},
            "outputs": [],
            "source": "def get_geocode(postal_code):\n    # initialize your variable to None\n    lat_lng_coords = None\n    while(lat_lng_coords is None):\n        g = geocoder.google('{}, Toronto, Ontario'.format(postal_code))\n        lat_lng_coords = g.latlng\n    latitude = lat_lng_coords[0]\n    longitude = lat_lng_coords[1]\n    return latitude,longitude"
        },
        {
            "cell_type": "code",
            "execution_count": 20,
            "metadata": {},
            "outputs": [
                {
                    "data": {
                        "text/html": "<div>\n<style scoped>\n    .dataframe tbody tr th:only-of-type {\n        vertical-align: middle;\n    }\n\n    .dataframe tbody tr th {\n        vertical-align: top;\n    }\n\n    .dataframe thead th {\n        text-align: right;\n    }\n</style>\n<table border=\"1\" class=\"dataframe\">\n  <thead>\n    <tr style=\"text-align: right;\">\n      <th></th>\n      <th>Postal Code</th>\n      <th>Latitude</th>\n      <th>Longitude</th>\n    </tr>\n  </thead>\n  <tbody>\n    <tr>\n      <th>0</th>\n      <td>M1B</td>\n      <td>43.806686</td>\n      <td>-79.194353</td>\n    </tr>\n    <tr>\n      <th>1</th>\n      <td>M1C</td>\n      <td>43.784535</td>\n      <td>-79.160497</td>\n    </tr>\n    <tr>\n      <th>2</th>\n      <td>M1E</td>\n      <td>43.763573</td>\n      <td>-79.188711</td>\n    </tr>\n    <tr>\n      <th>3</th>\n      <td>M1G</td>\n      <td>43.770992</td>\n      <td>-79.216917</td>\n    </tr>\n    <tr>\n      <th>4</th>\n      <td>M1H</td>\n      <td>43.773136</td>\n      <td>-79.239476</td>\n    </tr>\n  </tbody>\n</table>\n</div>",
                        "text/plain": "  Postal Code   Latitude  Longitude\n0         M1B  43.806686 -79.194353\n1         M1C  43.784535 -79.160497\n2         M1E  43.763573 -79.188711\n3         M1G  43.770992 -79.216917\n4         M1H  43.773136 -79.239476"
                    },
                    "execution_count": 20,
                    "metadata": {},
                    "output_type": "execute_result"
                }
            ],
            "source": "geo_df=pd.read_csv('http://cocl.us/Geospatial_data')\ngeo_df.head()"
        },
        {
            "cell_type": "code",
            "execution_count": 21,
            "metadata": {},
            "outputs": [],
            "source": "geo_df.rename(columns={'Postal Code':'Postalcode'},inplace=True)\ngeo_merged = pd.merge(geo_df, df_merge, on='Postalcode')\ngeo_data=geo_merged[['Postalcode','Borough','Neighborhood','Latitude','Longitude']]"
        },
        {
            "cell_type": "code",
            "execution_count": 27,
            "metadata": {},
            "outputs": [
                {
                    "data": {
                        "text/html": "<div>\n<style scoped>\n    .dataframe tbody tr th:only-of-type {\n        vertical-align: middle;\n    }\n\n    .dataframe tbody tr th {\n        vertical-align: top;\n    }\n\n    .dataframe thead th {\n        text-align: right;\n    }\n</style>\n<table border=\"1\" class=\"dataframe\">\n  <thead>\n    <tr style=\"text-align: right;\">\n      <th></th>\n      <th>Postalcode</th>\n      <th>Borough</th>\n      <th>Neighborhood</th>\n      <th>Latitude</th>\n      <th>Longitude</th>\n    </tr>\n  </thead>\n  <tbody>\n    <tr>\n      <th>0</th>\n      <td>M1B</td>\n      <td>Scarborough</td>\n      <td>Malvern, Rouge</td>\n      <td>43.806686</td>\n      <td>-79.194353</td>\n    </tr>\n    <tr>\n      <th>1</th>\n      <td>M1C</td>\n      <td>Scarborough</td>\n      <td>Rouge Hill, Port Union, Highland Creek</td>\n      <td>43.784535</td>\n      <td>-79.160497</td>\n    </tr>\n    <tr>\n      <th>2</th>\n      <td>M1E</td>\n      <td>Scarborough</td>\n      <td>Guildwood, Morningside, West Hill</td>\n      <td>43.763573</td>\n      <td>-79.188711</td>\n    </tr>\n    <tr>\n      <th>3</th>\n      <td>M1G</td>\n      <td>Scarborough</td>\n      <td>Woburn</td>\n      <td>43.770992</td>\n      <td>-79.216917</td>\n    </tr>\n    <tr>\n      <th>4</th>\n      <td>M1H</td>\n      <td>Scarborough</td>\n      <td>Cedarbrae</td>\n      <td>43.773136</td>\n      <td>-79.239476</td>\n    </tr>\n    <tr>\n      <th>5</th>\n      <td>M1J</td>\n      <td>Scarborough</td>\n      <td>Scarborough Village</td>\n      <td>43.744734</td>\n      <td>-79.239476</td>\n    </tr>\n    <tr>\n      <th>6</th>\n      <td>M1K</td>\n      <td>Scarborough</td>\n      <td>Kennedy Park, Ionview, East Birchmount Park</td>\n      <td>43.727929</td>\n      <td>-79.262029</td>\n    </tr>\n    <tr>\n      <th>7</th>\n      <td>M1L</td>\n      <td>Scarborough</td>\n      <td>Golden Mile, Clairlea, Oakridge</td>\n      <td>43.711112</td>\n      <td>-79.284577</td>\n    </tr>\n    <tr>\n      <th>8</th>\n      <td>M1M</td>\n      <td>Scarborough</td>\n      <td>Cliffside, Cliffcrest, Scarborough Village West</td>\n      <td>43.716316</td>\n      <td>-79.239476</td>\n    </tr>\n    <tr>\n      <th>9</th>\n      <td>M1N</td>\n      <td>Scarborough</td>\n      <td>Birch Cliff, Cliffside West</td>\n      <td>43.692657</td>\n      <td>-79.264848</td>\n    </tr>\n    <tr>\n      <th>10</th>\n      <td>M1P</td>\n      <td>Scarborough</td>\n      <td>Dorset Park, Wexford Heights, Scarborough Town...</td>\n      <td>43.757410</td>\n      <td>-79.273304</td>\n    </tr>\n  </tbody>\n</table>\n</div>",
                        "text/plain": "   Postalcode      Borough                                       Neighborhood  \\\n0         M1B  Scarborough                                     Malvern, Rouge   \n1         M1C  Scarborough             Rouge Hill, Port Union, Highland Creek   \n2         M1E  Scarborough                  Guildwood, Morningside, West Hill   \n3         M1G  Scarborough                                             Woburn   \n4         M1H  Scarborough                                          Cedarbrae   \n5         M1J  Scarborough                                Scarborough Village   \n6         M1K  Scarborough        Kennedy Park, Ionview, East Birchmount Park   \n7         M1L  Scarborough                    Golden Mile, Clairlea, Oakridge   \n8         M1M  Scarborough    Cliffside, Cliffcrest, Scarborough Village West   \n9         M1N  Scarborough                        Birch Cliff, Cliffside West   \n10        M1P  Scarborough  Dorset Park, Wexford Heights, Scarborough Town...   \n\n     Latitude  Longitude  \n0   43.806686 -79.194353  \n1   43.784535 -79.160497  \n2   43.763573 -79.188711  \n3   43.770992 -79.216917  \n4   43.773136 -79.239476  \n5   43.744734 -79.239476  \n6   43.727929 -79.262029  \n7   43.711112 -79.284577  \n8   43.716316 -79.239476  \n9   43.692657 -79.264848  \n10  43.757410 -79.273304  "
                    },
                    "execution_count": 27,
                    "metadata": {},
                    "output_type": "execute_result"
                }
            ],
            "source": "geo_data.head(11)"
        },
        {
            "cell_type": "code",
            "execution_count": 23,
            "metadata": {},
            "outputs": [
                {
                    "data": {
                        "text/plain": "(103, 5)"
                    },
                    "execution_count": 23,
                    "metadata": {},
                    "output_type": "execute_result"
                }
            ],
            "source": "geo_data.shape"
        },
        {
            "cell_type": "markdown",
            "metadata": {},
            "source": "# 3. Clustering Toronto Neighborhoods\n"
        },
        {
            "cell_type": "code",
            "execution_count": 28,
            "metadata": {},
            "outputs": [],
            "source": "\nCLIENT_ID = 'GITKTVCSY1TDDSPI0Y41AKJ20PLUFNMHQT0EWV211GGX31SW' # your Foursquare ID\nCLIENT_SECRET = 'UDJYMXNRPFW0EBG5XJDLK0JUSSGHPFB5Y4QLDEG4PYBOWVQR' # your Foursquare Secret\nVERSION = '20201201' #date of the API version in YYYYMMDD format"
        },
        {
            "cell_type": "code",
            "execution_count": 29,
            "metadata": {},
            "outputs": [],
            "source": "def getNearbyVenues(names, latitudes, longitudes):\n    radius=500\n    LIMIT=100\n    venues_list=[]\n    for name, lat, lng in zip(names, latitudes, longitudes):\n        print(name)\n            \n        # create the API request URL\n        url = 'https://api.foursquare.com/v2/venues/explore?&client_id={}&client_secret={}&v={}&ll={},{}&radius={}&limit={}'.format(\n            CLIENT_ID, \n            CLIENT_SECRET, \n            VERSION, \n            lat, \n            lng, \n            radius, \n            LIMIT)\n            \n        # make the GET request\n        results = requests.get(url).json()[\"response\"]['groups'][0]['items']\n        \n        # return only relevant information for each nearby venue\n        venues_list.append([(\n            name, \n            lat, \n            lng, \n            v['venue']['name'], \n            v['venue']['location']['lat'], \n            v['venue']['location']['lng'],  \n            v['venue']['categories'][0]['name']) for v in results])\n\n    nearby_venues = pd.DataFrame([item for venue_list in venues_list for item in venue_list])\n    nearby_venues.columns = ['Neighborhood', \n                  'Neighborhood Latitude', \n                  'Neighborhood Longitude', \n                  'Venue', \n                  'Venue Latitude', \n                  'Venue Longitude', \n                  'Venue Category']\n    \n    return(nearby_venues)"
        },
        {
            "cell_type": "code",
            "execution_count": 30,
            "metadata": {},
            "outputs": [
                {
                    "name": "stdout",
                    "output_type": "stream",
                    "text": "Malvern, Rouge\nRouge Hill, Port Union, Highland Creek\nGuildwood, Morningside, West Hill\nWoburn\nCedarbrae\nScarborough Village\nKennedy Park, Ionview, East Birchmount Park\nGolden Mile, Clairlea, Oakridge\nCliffside, Cliffcrest, Scarborough Village West\nBirch Cliff, Cliffside West\nDorset Park, Wexford Heights, Scarborough Town Centre\nWexford, Maryvale\nAgincourt\nClarks Corners, Tam O'Shanter, Sullivan\nMilliken, Agincourt North, Steeles East, L'Amoreaux East\nSteeles West, L'Amoreaux West\nUpper Rouge\nHillcrest Village\nFairview, Henry Farm, Oriole\nBayview Village\nYork Mills, Silver Hills\nWillowdale, Newtonbrook\nWillowdale, Willowdale East\nYork Mills West\nWillowdale, Willowdale West\nParkwoods\nDon Mills\nDon Mills\nBathurst Manor, Wilson Heights, Downsview North\nNorthwood Park, York University\nDownsview\nDownsview\nDownsview\nDownsview\nVictoria Village\nParkview Hill, Woodbine Gardens\nWoodbine Heights\nThe Beaches\nLeaside\nThorncliffe Park\nEast Toronto, Broadview North (Old East York)\nThe Danforth West, Riverdale\nIndia Bazaar, The Beaches West\nStudio District\nLawrence Park\nDavisville North\nNorth Toronto West,  Lawrence Park\nDavisville\nMoore Park, Summerhill East\nSummerhill West, Rathnelly, South Hill, Forest Hill SE, Deer Park\nRosedale\nSt. James Town, Cabbagetown\nChurch and Wellesley\nRegent Park, Harbourfront\nGarden District, Ryerson\nSt. James Town\nBerczy Park\nCentral Bay Street\nRichmond, Adelaide, King\nHarbourfront East, Union Station, Toronto Islands\nToronto Dominion Centre, Design Exchange\nCommerce Court, Victoria Hotel\nBedford Park, Lawrence Manor East\nRoselawn\nForest Hill North & West, Forest Hill Road Park\nThe Annex, North Midtown, Yorkville\nUniversity of Toronto, Harbord\nKensington Market, Chinatown, Grange Park\nCN Tower, King and Spadina, Railway Lands, Harbourfront West, Bathurst Quay, South Niagara, Island airport\nStn A PO Boxes\nFirst Canadian Place, Underground city\nLawrence Manor, Lawrence Heights\nGlencairn\nHumewood-Cedarvale\nCaledonia-Fairbanks\nChristie\nDufferin, Dovercourt Village\nLittle Portugal, Trinity\nBrockton, Parkdale Village, Exhibition Place\nNorth Park, Maple Leaf Park, Upwood Park\nDel Ray, Mount Dennis, Keelsdale and Silverthorn\nRunnymede, The Junction North\nHigh Park, The Junction South\nParkdale, Roncesvalles\nRunnymede, Swansea\nQueen's Park, Ontario Provincial Government\nCanada Post Gateway Processing Centre\nBusiness reply mail Processing Centre, South Central Letter Processing Plant Toronto\nNew Toronto, Mimico South, Humber Bay Shores\nAlderwood, Long Branch\nThe Kingsway, Montgomery Road, Old Mill North\nOld Mill South, King's Mill Park, Sunnylea, Humber Bay, Mimico NE, The Queensway East, Royal York South East, Kingsway Park South East\nMimico NW, The Queensway West, South of Bloor, Kingsway Park South West, Royal York South West\nIslington Avenue, Humber Valley Village\nWest Deane Park, Princess Gardens, Martin Grove, Islington, Cloverdale\nEringate, Bloordale Gardens, Old Burnhamthorpe, Markland Wood\nHumber Summit\nHumberlea, Emery\nWeston\nWestmount\nKingsview Village, St. Phillips, Martin Grove Gardens, Richview Gardens\nSouth Steeles, Silverstone, Humbergate, Jamestown, Mount Olive, Beaumond Heights, Thistletown, Albion Gardens\nNorthwest, West Humber - Clairville\n"
                }
            ],
            "source": "toronto_venues = getNearbyVenues(names=geo_data['Neighborhood'],\n                                   latitudes=geo_data['Latitude'],\n                                   longitudes=geo_data['Longitude'])"
        },
        {
            "cell_type": "code",
            "execution_count": 31,
            "metadata": {},
            "outputs": [
                {
                    "data": {
                        "text/html": "<div>\n<style scoped>\n    .dataframe tbody tr th:only-of-type {\n        vertical-align: middle;\n    }\n\n    .dataframe tbody tr th {\n        vertical-align: top;\n    }\n\n    .dataframe thead th {\n        text-align: right;\n    }\n</style>\n<table border=\"1\" class=\"dataframe\">\n  <thead>\n    <tr style=\"text-align: right;\">\n      <th></th>\n      <th>Neighborhood</th>\n      <th>Neighborhood Latitude</th>\n      <th>Neighborhood Longitude</th>\n      <th>Venue</th>\n      <th>Venue Latitude</th>\n      <th>Venue Longitude</th>\n      <th>Venue Category</th>\n    </tr>\n  </thead>\n  <tbody>\n    <tr>\n      <th>0</th>\n      <td>Malvern, Rouge</td>\n      <td>43.806686</td>\n      <td>-79.194353</td>\n      <td>Wendy\u2019s</td>\n      <td>43.807448</td>\n      <td>-79.199056</td>\n      <td>Fast Food Restaurant</td>\n    </tr>\n    <tr>\n      <th>1</th>\n      <td>Rouge Hill, Port Union, Highland Creek</td>\n      <td>43.784535</td>\n      <td>-79.160497</td>\n      <td>Chris Effects Painting</td>\n      <td>43.784343</td>\n      <td>-79.163742</td>\n      <td>Construction &amp; Landscaping</td>\n    </tr>\n    <tr>\n      <th>2</th>\n      <td>Rouge Hill, Port Union, Highland Creek</td>\n      <td>43.784535</td>\n      <td>-79.160497</td>\n      <td>Royal Canadian Legion</td>\n      <td>43.782533</td>\n      <td>-79.163085</td>\n      <td>Bar</td>\n    </tr>\n    <tr>\n      <th>3</th>\n      <td>Guildwood, Morningside, West Hill</td>\n      <td>43.763573</td>\n      <td>-79.188711</td>\n      <td>RBC Royal Bank</td>\n      <td>43.766790</td>\n      <td>-79.191151</td>\n      <td>Bank</td>\n    </tr>\n    <tr>\n      <th>4</th>\n      <td>Guildwood, Morningside, West Hill</td>\n      <td>43.763573</td>\n      <td>-79.188711</td>\n      <td>G &amp; G Electronics</td>\n      <td>43.765309</td>\n      <td>-79.191537</td>\n      <td>Electronics Store</td>\n    </tr>\n  </tbody>\n</table>\n</div>",
                        "text/plain": "                             Neighborhood  Neighborhood Latitude  \\\n0                          Malvern, Rouge              43.806686   \n1  Rouge Hill, Port Union, Highland Creek              43.784535   \n2  Rouge Hill, Port Union, Highland Creek              43.784535   \n3       Guildwood, Morningside, West Hill              43.763573   \n4       Guildwood, Morningside, West Hill              43.763573   \n\n   Neighborhood Longitude                   Venue  Venue Latitude  \\\n0              -79.194353                 Wendy\u2019s       43.807448   \n1              -79.160497  Chris Effects Painting       43.784343   \n2              -79.160497   Royal Canadian Legion       43.782533   \n3              -79.188711          RBC Royal Bank       43.766790   \n4              -79.188711       G & G Electronics       43.765309   \n\n   Venue Longitude              Venue Category  \n0       -79.199056        Fast Food Restaurant  \n1       -79.163742  Construction & Landscaping  \n2       -79.163085                         Bar  \n3       -79.191151                        Bank  \n4       -79.191537           Electronics Store  "
                    },
                    "execution_count": 31,
                    "metadata": {},
                    "output_type": "execute_result"
                }
            ],
            "source": "toronto_venues.head()"
        },
        {
            "cell_type": "code",
            "execution_count": 32,
            "metadata": {},
            "outputs": [
                {
                    "data": {
                        "text/plain": "(2132, 7)"
                    },
                    "execution_count": 32,
                    "metadata": {},
                    "output_type": "execute_result"
                }
            ],
            "source": "toronto_venues.shape"
        },
        {
            "cell_type": "code",
            "execution_count": 34,
            "metadata": {},
            "outputs": [
                {
                    "data": {
                        "text/html": "<div>\n<style scoped>\n    .dataframe tbody tr th:only-of-type {\n        vertical-align: middle;\n    }\n\n    .dataframe tbody tr th {\n        vertical-align: top;\n    }\n\n    .dataframe thead th {\n        text-align: right;\n    }\n</style>\n<table border=\"1\" class=\"dataframe\">\n  <thead>\n    <tr style=\"text-align: right;\">\n      <th></th>\n      <th>Neighborhood Latitude</th>\n      <th>Neighborhood Longitude</th>\n      <th>Venue</th>\n      <th>Venue Latitude</th>\n      <th>Venue Longitude</th>\n      <th>Venue Category</th>\n    </tr>\n    <tr>\n      <th>Neighborhood</th>\n      <th></th>\n      <th></th>\n      <th></th>\n      <th></th>\n      <th></th>\n      <th></th>\n    </tr>\n  </thead>\n  <tbody>\n    <tr>\n      <th>Agincourt</th>\n      <td>5</td>\n      <td>5</td>\n      <td>5</td>\n      <td>5</td>\n      <td>5</td>\n      <td>5</td>\n    </tr>\n    <tr>\n      <th>Alderwood, Long Branch</th>\n      <td>9</td>\n      <td>9</td>\n      <td>9</td>\n      <td>9</td>\n      <td>9</td>\n      <td>9</td>\n    </tr>\n    <tr>\n      <th>Bathurst Manor, Wilson Heights, Downsview North</th>\n      <td>20</td>\n      <td>20</td>\n      <td>20</td>\n      <td>20</td>\n      <td>20</td>\n      <td>20</td>\n    </tr>\n    <tr>\n      <th>Bayview Village</th>\n      <td>4</td>\n      <td>4</td>\n      <td>4</td>\n      <td>4</td>\n      <td>4</td>\n      <td>4</td>\n    </tr>\n    <tr>\n      <th>Bedford Park, Lawrence Manor East</th>\n      <td>24</td>\n      <td>24</td>\n      <td>24</td>\n      <td>24</td>\n      <td>24</td>\n      <td>24</td>\n    </tr>\n    <tr>\n      <th>Berczy Park</th>\n      <td>56</td>\n      <td>56</td>\n      <td>56</td>\n      <td>56</td>\n      <td>56</td>\n      <td>56</td>\n    </tr>\n    <tr>\n      <th>Birch Cliff, Cliffside West</th>\n      <td>4</td>\n      <td>4</td>\n      <td>4</td>\n      <td>4</td>\n      <td>4</td>\n      <td>4</td>\n    </tr>\n    <tr>\n      <th>Brockton, Parkdale Village, Exhibition Place</th>\n      <td>23</td>\n      <td>23</td>\n      <td>23</td>\n      <td>23</td>\n      <td>23</td>\n      <td>23</td>\n    </tr>\n    <tr>\n      <th>Business reply mail Processing Centre, South Central Letter Processing Plant Toronto</th>\n      <td>16</td>\n      <td>16</td>\n      <td>16</td>\n      <td>16</td>\n      <td>16</td>\n      <td>16</td>\n    </tr>\n    <tr>\n      <th>CN Tower, King and Spadina, Railway Lands, Harbourfront West, Bathurst Quay, South Niagara, Island airport</th>\n      <td>18</td>\n      <td>18</td>\n      <td>18</td>\n      <td>18</td>\n      <td>18</td>\n      <td>18</td>\n    </tr>\n    <tr>\n      <th>Caledonia-Fairbanks</th>\n      <td>4</td>\n      <td>4</td>\n      <td>4</td>\n      <td>4</td>\n      <td>4</td>\n      <td>4</td>\n    </tr>\n    <tr>\n      <th>Canada Post Gateway Processing Centre</th>\n      <td>13</td>\n      <td>13</td>\n      <td>13</td>\n      <td>13</td>\n      <td>13</td>\n      <td>13</td>\n    </tr>\n    <tr>\n      <th>Cedarbrae</th>\n      <td>8</td>\n      <td>8</td>\n      <td>8</td>\n      <td>8</td>\n      <td>8</td>\n      <td>8</td>\n    </tr>\n    <tr>\n      <th>Central Bay Street</th>\n      <td>65</td>\n      <td>65</td>\n      <td>65</td>\n      <td>65</td>\n      <td>65</td>\n      <td>65</td>\n    </tr>\n    <tr>\n      <th>Christie</th>\n      <td>16</td>\n      <td>16</td>\n      <td>16</td>\n      <td>16</td>\n      <td>16</td>\n      <td>16</td>\n    </tr>\n    <tr>\n      <th>Church and Wellesley</th>\n      <td>78</td>\n      <td>78</td>\n      <td>78</td>\n      <td>78</td>\n      <td>78</td>\n      <td>78</td>\n    </tr>\n    <tr>\n      <th>Clarks Corners, Tam O'Shanter, Sullivan</th>\n      <td>12</td>\n      <td>12</td>\n      <td>12</td>\n      <td>12</td>\n      <td>12</td>\n      <td>12</td>\n    </tr>\n    <tr>\n      <th>Cliffside, Cliffcrest, Scarborough Village West</th>\n      <td>2</td>\n      <td>2</td>\n      <td>2</td>\n      <td>2</td>\n      <td>2</td>\n      <td>2</td>\n    </tr>\n    <tr>\n      <th>Commerce Court, Victoria Hotel</th>\n      <td>100</td>\n      <td>100</td>\n      <td>100</td>\n      <td>100</td>\n      <td>100</td>\n      <td>100</td>\n    </tr>\n    <tr>\n      <th>Davisville</th>\n      <td>31</td>\n      <td>31</td>\n      <td>31</td>\n      <td>31</td>\n      <td>31</td>\n      <td>31</td>\n    </tr>\n    <tr>\n      <th>Davisville North</th>\n      <td>9</td>\n      <td>9</td>\n      <td>9</td>\n      <td>9</td>\n      <td>9</td>\n      <td>9</td>\n    </tr>\n    <tr>\n      <th>Del Ray, Mount Dennis, Keelsdale and Silverthorn</th>\n      <td>5</td>\n      <td>5</td>\n      <td>5</td>\n      <td>5</td>\n      <td>5</td>\n      <td>5</td>\n    </tr>\n    <tr>\n      <th>Don Mills</th>\n      <td>28</td>\n      <td>28</td>\n      <td>28</td>\n      <td>28</td>\n      <td>28</td>\n      <td>28</td>\n    </tr>\n    <tr>\n      <th>Dorset Park, Wexford Heights, Scarborough Town Centre</th>\n      <td>5</td>\n      <td>5</td>\n      <td>5</td>\n      <td>5</td>\n      <td>5</td>\n      <td>5</td>\n    </tr>\n    <tr>\n      <th>Downsview</th>\n      <td>17</td>\n      <td>17</td>\n      <td>17</td>\n      <td>17</td>\n      <td>17</td>\n      <td>17</td>\n    </tr>\n    <tr>\n      <th>Dufferin, Dovercourt Village</th>\n      <td>15</td>\n      <td>15</td>\n      <td>15</td>\n      <td>15</td>\n      <td>15</td>\n      <td>15</td>\n    </tr>\n    <tr>\n      <th>East Toronto, Broadview North (Old East York)</th>\n      <td>4</td>\n      <td>4</td>\n      <td>4</td>\n      <td>4</td>\n      <td>4</td>\n      <td>4</td>\n    </tr>\n    <tr>\n      <th>Eringate, Bloordale Gardens, Old Burnhamthorpe, Markland Wood</th>\n      <td>8</td>\n      <td>8</td>\n      <td>8</td>\n      <td>8</td>\n      <td>8</td>\n      <td>8</td>\n    </tr>\n    <tr>\n      <th>Fairview, Henry Farm, Oriole</th>\n      <td>62</td>\n      <td>62</td>\n      <td>62</td>\n      <td>62</td>\n      <td>62</td>\n      <td>62</td>\n    </tr>\n    <tr>\n      <th>First Canadian Place, Underground city</th>\n      <td>100</td>\n      <td>100</td>\n      <td>100</td>\n      <td>100</td>\n      <td>100</td>\n      <td>100</td>\n    </tr>\n    <tr>\n      <th>...</th>\n      <td>...</td>\n      <td>...</td>\n      <td>...</td>\n      <td>...</td>\n      <td>...</td>\n      <td>...</td>\n    </tr>\n    <tr>\n      <th>Rosedale</th>\n      <td>4</td>\n      <td>4</td>\n      <td>4</td>\n      <td>4</td>\n      <td>4</td>\n      <td>4</td>\n    </tr>\n    <tr>\n      <th>Roselawn</th>\n      <td>3</td>\n      <td>3</td>\n      <td>3</td>\n      <td>3</td>\n      <td>3</td>\n      <td>3</td>\n    </tr>\n    <tr>\n      <th>Rouge Hill, Port Union, Highland Creek</th>\n      <td>2</td>\n      <td>2</td>\n      <td>2</td>\n      <td>2</td>\n      <td>2</td>\n      <td>2</td>\n    </tr>\n    <tr>\n      <th>Runnymede, Swansea</th>\n      <td>38</td>\n      <td>38</td>\n      <td>38</td>\n      <td>38</td>\n      <td>38</td>\n      <td>38</td>\n    </tr>\n    <tr>\n      <th>Runnymede, The Junction North</th>\n      <td>3</td>\n      <td>3</td>\n      <td>3</td>\n      <td>3</td>\n      <td>3</td>\n      <td>3</td>\n    </tr>\n    <tr>\n      <th>Scarborough Village</th>\n      <td>2</td>\n      <td>2</td>\n      <td>2</td>\n      <td>2</td>\n      <td>2</td>\n      <td>2</td>\n    </tr>\n    <tr>\n      <th>South Steeles, Silverstone, Humbergate, Jamestown, Mount Olive, Beaumond Heights, Thistletown, Albion Gardens</th>\n      <td>9</td>\n      <td>9</td>\n      <td>9</td>\n      <td>9</td>\n      <td>9</td>\n      <td>9</td>\n    </tr>\n    <tr>\n      <th>St. James Town</th>\n      <td>78</td>\n      <td>78</td>\n      <td>78</td>\n      <td>78</td>\n      <td>78</td>\n      <td>78</td>\n    </tr>\n    <tr>\n      <th>St. James Town, Cabbagetown</th>\n      <td>48</td>\n      <td>48</td>\n      <td>48</td>\n      <td>48</td>\n      <td>48</td>\n      <td>48</td>\n    </tr>\n    <tr>\n      <th>Steeles West, L'Amoreaux West</th>\n      <td>16</td>\n      <td>16</td>\n      <td>16</td>\n      <td>16</td>\n      <td>16</td>\n      <td>16</td>\n    </tr>\n    <tr>\n      <th>Stn A PO Boxes</th>\n      <td>94</td>\n      <td>94</td>\n      <td>94</td>\n      <td>94</td>\n      <td>94</td>\n      <td>94</td>\n    </tr>\n    <tr>\n      <th>Studio District</th>\n      <td>41</td>\n      <td>41</td>\n      <td>41</td>\n      <td>41</td>\n      <td>41</td>\n      <td>41</td>\n    </tr>\n    <tr>\n      <th>Summerhill West, Rathnelly, South Hill, Forest Hill SE, Deer Park</th>\n      <td>17</td>\n      <td>17</td>\n      <td>17</td>\n      <td>17</td>\n      <td>17</td>\n      <td>17</td>\n    </tr>\n    <tr>\n      <th>The Annex, North Midtown, Yorkville</th>\n      <td>22</td>\n      <td>22</td>\n      <td>22</td>\n      <td>22</td>\n      <td>22</td>\n      <td>22</td>\n    </tr>\n    <tr>\n      <th>The Beaches</th>\n      <td>4</td>\n      <td>4</td>\n      <td>4</td>\n      <td>4</td>\n      <td>4</td>\n      <td>4</td>\n    </tr>\n    <tr>\n      <th>The Danforth West, Riverdale</th>\n      <td>43</td>\n      <td>43</td>\n      <td>43</td>\n      <td>43</td>\n      <td>43</td>\n      <td>43</td>\n    </tr>\n    <tr>\n      <th>The Kingsway, Montgomery Road, Old Mill North</th>\n      <td>2</td>\n      <td>2</td>\n      <td>2</td>\n      <td>2</td>\n      <td>2</td>\n      <td>2</td>\n    </tr>\n    <tr>\n      <th>Thorncliffe Park</th>\n      <td>22</td>\n      <td>22</td>\n      <td>22</td>\n      <td>22</td>\n      <td>22</td>\n      <td>22</td>\n    </tr>\n    <tr>\n      <th>Toronto Dominion Centre, Design Exchange</th>\n      <td>100</td>\n      <td>100</td>\n      <td>100</td>\n      <td>100</td>\n      <td>100</td>\n      <td>100</td>\n    </tr>\n    <tr>\n      <th>University of Toronto, Harbord</th>\n      <td>35</td>\n      <td>35</td>\n      <td>35</td>\n      <td>35</td>\n      <td>35</td>\n      <td>35</td>\n    </tr>\n    <tr>\n      <th>Victoria Village</th>\n      <td>4</td>\n      <td>4</td>\n      <td>4</td>\n      <td>4</td>\n      <td>4</td>\n      <td>4</td>\n    </tr>\n    <tr>\n      <th>Westmount</th>\n      <td>8</td>\n      <td>8</td>\n      <td>8</td>\n      <td>8</td>\n      <td>8</td>\n      <td>8</td>\n    </tr>\n    <tr>\n      <th>Weston</th>\n      <td>3</td>\n      <td>3</td>\n      <td>3</td>\n      <td>3</td>\n      <td>3</td>\n      <td>3</td>\n    </tr>\n    <tr>\n      <th>Wexford, Maryvale</th>\n      <td>6</td>\n      <td>6</td>\n      <td>6</td>\n      <td>6</td>\n      <td>6</td>\n      <td>6</td>\n    </tr>\n    <tr>\n      <th>Willowdale, Willowdale East</th>\n      <td>33</td>\n      <td>33</td>\n      <td>33</td>\n      <td>33</td>\n      <td>33</td>\n      <td>33</td>\n    </tr>\n    <tr>\n      <th>Willowdale, Willowdale West</th>\n      <td>6</td>\n      <td>6</td>\n      <td>6</td>\n      <td>6</td>\n      <td>6</td>\n      <td>6</td>\n    </tr>\n    <tr>\n      <th>Woburn</th>\n      <td>3</td>\n      <td>3</td>\n      <td>3</td>\n      <td>3</td>\n      <td>3</td>\n      <td>3</td>\n    </tr>\n    <tr>\n      <th>Woodbine Heights</th>\n      <td>8</td>\n      <td>8</td>\n      <td>8</td>\n      <td>8</td>\n      <td>8</td>\n      <td>8</td>\n    </tr>\n    <tr>\n      <th>York Mills West</th>\n      <td>2</td>\n      <td>2</td>\n      <td>2</td>\n      <td>2</td>\n      <td>2</td>\n      <td>2</td>\n    </tr>\n    <tr>\n      <th>York Mills, Silver Hills</th>\n      <td>1</td>\n      <td>1</td>\n      <td>1</td>\n      <td>1</td>\n      <td>1</td>\n      <td>1</td>\n    </tr>\n  </tbody>\n</table>\n<p>95 rows \u00d7 6 columns</p>\n</div>",
                        "text/plain": "                                                    Neighborhood Latitude  \\\nNeighborhood                                                                \nAgincourt                                                               5   \nAlderwood, Long Branch                                                  9   \nBathurst Manor, Wilson Heights, Downsview North                        20   \nBayview Village                                                         4   \nBedford Park, Lawrence Manor East                                      24   \nBerczy Park                                                            56   \nBirch Cliff, Cliffside West                                             4   \nBrockton, Parkdale Village, Exhibition Place                           23   \nBusiness reply mail Processing Centre, South Ce...                     16   \nCN Tower, King and Spadina, Railway Lands, Harb...                     18   \nCaledonia-Fairbanks                                                     4   \nCanada Post Gateway Processing Centre                                  13   \nCedarbrae                                                               8   \nCentral Bay Street                                                     65   \nChristie                                                               16   \nChurch and Wellesley                                                   78   \nClarks Corners, Tam O'Shanter, Sullivan                                12   \nCliffside, Cliffcrest, Scarborough Village West                         2   \nCommerce Court, Victoria Hotel                                        100   \nDavisville                                                             31   \nDavisville North                                                        9   \nDel Ray, Mount Dennis, Keelsdale and Silverthorn                        5   \nDon Mills                                                              28   \nDorset Park, Wexford Heights, Scarborough Town ...                      5   \nDownsview                                                              17   \nDufferin, Dovercourt Village                                           15   \nEast Toronto, Broadview North (Old East York)                           4   \nEringate, Bloordale Gardens, Old Burnhamthorpe,...                      8   \nFairview, Henry Farm, Oriole                                           62   \nFirst Canadian Place, Underground city                                100   \n...                                                                   ...   \nRosedale                                                                4   \nRoselawn                                                                3   \nRouge Hill, Port Union, Highland Creek                                  2   \nRunnymede, Swansea                                                     38   \nRunnymede, The Junction North                                           3   \nScarborough Village                                                     2   \nSouth Steeles, Silverstone, Humbergate, Jamesto...                      9   \nSt. James Town                                                         78   \nSt. James Town, Cabbagetown                                            48   \nSteeles West, L'Amoreaux West                                          16   \nStn A PO Boxes                                                         94   \nStudio District                                                        41   \nSummerhill West, Rathnelly, South Hill, Forest ...                     17   \nThe Annex, North Midtown, Yorkville                                    22   \nThe Beaches                                                             4   \nThe Danforth West, Riverdale                                           43   \nThe Kingsway, Montgomery Road, Old Mill North                           2   \nThorncliffe Park                                                       22   \nToronto Dominion Centre, Design Exchange                              100   \nUniversity of Toronto, Harbord                                         35   \nVictoria Village                                                        4   \nWestmount                                                               8   \nWeston                                                                  3   \nWexford, Maryvale                                                       6   \nWillowdale, Willowdale East                                            33   \nWillowdale, Willowdale West                                             6   \nWoburn                                                                  3   \nWoodbine Heights                                                        8   \nYork Mills West                                                         2   \nYork Mills, Silver Hills                                                1   \n\n                                                    Neighborhood Longitude  \\\nNeighborhood                                                                 \nAgincourt                                                                5   \nAlderwood, Long Branch                                                   9   \nBathurst Manor, Wilson Heights, Downsview North                         20   \nBayview Village                                                          4   \nBedford Park, Lawrence Manor East                                       24   \nBerczy Park                                                             56   \nBirch Cliff, Cliffside West                                              4   \nBrockton, Parkdale Village, Exhibition Place                            23   \nBusiness reply mail Processing Centre, South Ce...                      16   \nCN Tower, King and Spadina, Railway Lands, Harb...                      18   \nCaledonia-Fairbanks                                                      4   \nCanada Post Gateway Processing Centre                                   13   \nCedarbrae                                                                8   \nCentral Bay Street                                                      65   \nChristie                                                                16   \nChurch and Wellesley                                                    78   \nClarks Corners, Tam O'Shanter, Sullivan                                 12   \nCliffside, Cliffcrest, Scarborough Village West                          2   \nCommerce Court, Victoria Hotel                                         100   \nDavisville                                                              31   \nDavisville North                                                         9   \nDel Ray, Mount Dennis, Keelsdale and Silverthorn                         5   \nDon Mills                                                               28   \nDorset Park, Wexford Heights, Scarborough Town ...                       5   \nDownsview                                                               17   \nDufferin, Dovercourt Village                                            15   \nEast Toronto, Broadview North (Old East York)                            4   \nEringate, Bloordale Gardens, Old Burnhamthorpe,...                       8   \nFairview, Henry Farm, Oriole                                            62   \nFirst Canadian Place, Underground city                                 100   \n...                                                                    ...   \nRosedale                                                                 4   \nRoselawn                                                                 3   \nRouge Hill, Port Union, Highland Creek                                   2   \nRunnymede, Swansea                                                      38   \nRunnymede, The Junction North                                            3   \nScarborough Village                                                      2   \nSouth Steeles, Silverstone, Humbergate, Jamesto...                       9   \nSt. James Town                                                          78   \nSt. James Town, Cabbagetown                                             48   \nSteeles West, L'Amoreaux West                                           16   \nStn A PO Boxes                                                          94   \nStudio District                                                         41   \nSummerhill West, Rathnelly, South Hill, Forest ...                      17   \nThe Annex, North Midtown, Yorkville                                     22   \nThe Beaches                                                              4   \nThe Danforth West, Riverdale                                            43   \nThe Kingsway, Montgomery Road, Old Mill North                            2   \nThorncliffe Park                                                        22   \nToronto Dominion Centre, Design Exchange                               100   \nUniversity of Toronto, Harbord                                          35   \nVictoria Village                                                         4   \nWestmount                                                                8   \nWeston                                                                   3   \nWexford, Maryvale                                                        6   \nWillowdale, Willowdale East                                             33   \nWillowdale, Willowdale West                                              6   \nWoburn                                                                   3   \nWoodbine Heights                                                         8   \nYork Mills West                                                          2   \nYork Mills, Silver Hills                                                 1   \n\n                                                    Venue  Venue Latitude  \\\nNeighborhood                                                                \nAgincourt                                               5               5   \nAlderwood, Long Branch                                  9               9   \nBathurst Manor, Wilson Heights, Downsview North        20              20   \nBayview Village                                         4               4   \nBedford Park, Lawrence Manor East                      24              24   \nBerczy Park                                            56              56   \nBirch Cliff, Cliffside West                             4               4   \nBrockton, Parkdale Village, Exhibition Place           23              23   \nBusiness reply mail Processing Centre, South Ce...     16              16   \nCN Tower, King and Spadina, Railway Lands, Harb...     18              18   \nCaledonia-Fairbanks                                     4               4   \nCanada Post Gateway Processing Centre                  13              13   \nCedarbrae                                               8               8   \nCentral Bay Street                                     65              65   \nChristie                                               16              16   \nChurch and Wellesley                                   78              78   \nClarks Corners, Tam O'Shanter, Sullivan                12              12   \nCliffside, Cliffcrest, Scarborough Village West         2               2   \nCommerce Court, Victoria Hotel                        100             100   \nDavisville                                             31              31   \nDavisville North                                        9               9   \nDel Ray, Mount Dennis, Keelsdale and Silverthorn        5               5   \nDon Mills                                              28              28   \nDorset Park, Wexford Heights, Scarborough Town ...      5               5   \nDownsview                                              17              17   \nDufferin, Dovercourt Village                           15              15   \nEast Toronto, Broadview North (Old East York)           4               4   \nEringate, Bloordale Gardens, Old Burnhamthorpe,...      8               8   \nFairview, Henry Farm, Oriole                           62              62   \nFirst Canadian Place, Underground city                100             100   \n...                                                   ...             ...   \nRosedale                                                4               4   \nRoselawn                                                3               3   \nRouge Hill, Port Union, Highland Creek                  2               2   \nRunnymede, Swansea                                     38              38   \nRunnymede, The Junction North                           3               3   \nScarborough Village                                     2               2   \nSouth Steeles, Silverstone, Humbergate, Jamesto...      9               9   \nSt. James Town                                         78              78   \nSt. James Town, Cabbagetown                            48              48   \nSteeles West, L'Amoreaux West                          16              16   \nStn A PO Boxes                                         94              94   \nStudio District                                        41              41   \nSummerhill West, Rathnelly, South Hill, Forest ...     17              17   \nThe Annex, North Midtown, Yorkville                    22              22   \nThe Beaches                                             4               4   \nThe Danforth West, Riverdale                           43              43   \nThe Kingsway, Montgomery Road, Old Mill North           2               2   \nThorncliffe Park                                       22              22   \nToronto Dominion Centre, Design Exchange              100             100   \nUniversity of Toronto, Harbord                         35              35   \nVictoria Village                                        4               4   \nWestmount                                               8               8   \nWeston                                                  3               3   \nWexford, Maryvale                                       6               6   \nWillowdale, Willowdale East                            33              33   \nWillowdale, Willowdale West                             6               6   \nWoburn                                                  3               3   \nWoodbine Heights                                        8               8   \nYork Mills West                                         2               2   \nYork Mills, Silver Hills                                1               1   \n\n                                                    Venue Longitude  \\\nNeighborhood                                                          \nAgincourt                                                         5   \nAlderwood, Long Branch                                            9   \nBathurst Manor, Wilson Heights, Downsview North                  20   \nBayview Village                                                   4   \nBedford Park, Lawrence Manor East                                24   \nBerczy Park                                                      56   \nBirch Cliff, Cliffside West                                       4   \nBrockton, Parkdale Village, Exhibition Place                     23   \nBusiness reply mail Processing Centre, South Ce...               16   \nCN Tower, King and Spadina, Railway Lands, Harb...               18   \nCaledonia-Fairbanks                                               4   \nCanada Post Gateway Processing Centre                            13   \nCedarbrae                                                         8   \nCentral Bay Street                                               65   \nChristie                                                         16   \nChurch and Wellesley                                             78   \nClarks Corners, Tam O'Shanter, Sullivan                          12   \nCliffside, Cliffcrest, Scarborough Village West                   2   \nCommerce Court, Victoria Hotel                                  100   \nDavisville                                                       31   \nDavisville North                                                  9   \nDel Ray, Mount Dennis, Keelsdale and Silverthorn                  5   \nDon Mills                                                        28   \nDorset Park, Wexford Heights, Scarborough Town ...                5   \nDownsview                                                        17   \nDufferin, Dovercourt Village                                     15   \nEast Toronto, Broadview North (Old East York)                     4   \nEringate, Bloordale Gardens, Old Burnhamthorpe,...                8   \nFairview, Henry Farm, Oriole                                     62   \nFirst Canadian Place, Underground city                          100   \n...                                                             ...   \nRosedale                                                          4   \nRoselawn                                                          3   \nRouge Hill, Port Union, Highland Creek                            2   \nRunnymede, Swansea                                               38   \nRunnymede, The Junction North                                     3   \nScarborough Village                                               2   \nSouth Steeles, Silverstone, Humbergate, Jamesto...                9   \nSt. James Town                                                   78   \nSt. James Town, Cabbagetown                                      48   \nSteeles West, L'Amoreaux West                                    16   \nStn A PO Boxes                                                   94   \nStudio District                                                  41   \nSummerhill West, Rathnelly, South Hill, Forest ...               17   \nThe Annex, North Midtown, Yorkville                              22   \nThe Beaches                                                       4   \nThe Danforth West, Riverdale                                     43   \nThe Kingsway, Montgomery Road, Old Mill North                     2   \nThorncliffe Park                                                 22   \nToronto Dominion Centre, Design Exchange                        100   \nUniversity of Toronto, Harbord                                   35   \nVictoria Village                                                  4   \nWestmount                                                         8   \nWeston                                                            3   \nWexford, Maryvale                                                 6   \nWillowdale, Willowdale East                                      33   \nWillowdale, Willowdale West                                       6   \nWoburn                                                            3   \nWoodbine Heights                                                  8   \nYork Mills West                                                   2   \nYork Mills, Silver Hills                                          1   \n\n                                                    Venue Category  \nNeighborhood                                                        \nAgincourt                                                        5  \nAlderwood, Long Branch                                           9  \nBathurst Manor, Wilson Heights, Downsview North                 20  \nBayview Village                                                  4  \nBedford Park, Lawrence Manor East                               24  \nBerczy Park                                                     56  \nBirch Cliff, Cliffside West                                      4  \nBrockton, Parkdale Village, Exhibition Place                    23  \nBusiness reply mail Processing Centre, South Ce...              16  \nCN Tower, King and Spadina, Railway Lands, Harb...              18  \nCaledonia-Fairbanks                                              4  \nCanada Post Gateway Processing Centre                           13  \nCedarbrae                                                        8  \nCentral Bay Street                                              65  \nChristie                                                        16  \nChurch and Wellesley                                            78  \nClarks Corners, Tam O'Shanter, Sullivan                         12  \nCliffside, Cliffcrest, Scarborough Village West                  2  \nCommerce Court, Victoria Hotel                                 100  \nDavisville                                                      31  \nDavisville North                                                 9  \nDel Ray, Mount Dennis, Keelsdale and Silverthorn                 5  \nDon Mills                                                       28  \nDorset Park, Wexford Heights, Scarborough Town ...               5  \nDownsview                                                       17  \nDufferin, Dovercourt Village                                    15  \nEast Toronto, Broadview North (Old East York)                    4  \nEringate, Bloordale Gardens, Old Burnhamthorpe,...               8  \nFairview, Henry Farm, Oriole                                    62  \nFirst Canadian Place, Underground city                         100  \n...                                                            ...  \nRosedale                                                         4  \nRoselawn                                                         3  \nRouge Hill, Port Union, Highland Creek                           2  \nRunnymede, Swansea                                              38  \nRunnymede, The Junction North                                    3  \nScarborough Village                                              2  \nSouth Steeles, Silverstone, Humbergate, Jamesto...               9  \nSt. James Town                                                  78  \nSt. James Town, Cabbagetown                                     48  \nSteeles West, L'Amoreaux West                                   16  \nStn A PO Boxes                                                  94  \nStudio District                                                 41  \nSummerhill West, Rathnelly, South Hill, Forest ...              17  \nThe Annex, North Midtown, Yorkville                             22  \nThe Beaches                                                      4  \nThe Danforth West, Riverdale                                    43  \nThe Kingsway, Montgomery Road, Old Mill North                    2  \nThorncliffe Park                                                22  \nToronto Dominion Centre, Design Exchange                       100  \nUniversity of Toronto, Harbord                                  35  \nVictoria Village                                                 4  \nWestmount                                                        8  \nWeston                                                           3  \nWexford, Maryvale                                                6  \nWillowdale, Willowdale East                                     33  \nWillowdale, Willowdale West                                      6  \nWoburn                                                           3  \nWoodbine Heights                                                 8  \nYork Mills West                                                  2  \nYork Mills, Silver Hills                                         1  \n\n[95 rows x 6 columns]"
                    },
                    "execution_count": 34,
                    "metadata": {},
                    "output_type": "execute_result"
                }
            ],
            "source": "toronto_venues.groupby('Neighborhood').count()"
        },
        {
            "cell_type": "code",
            "execution_count": null,
            "metadata": {},
            "outputs": [],
            "source": ""
        }
    ],
    "metadata": {
        "kernelspec": {
            "display_name": "Python 3.6",
            "language": "python",
            "name": "python3"
        },
        "language_info": {
            "codemirror_mode": {
                "name": "ipython",
                "version": 3
            },
            "file_extension": ".py",
            "mimetype": "text/x-python",
            "name": "python",
            "nbconvert_exporter": "python",
            "pygments_lexer": "ipython3",
            "version": "3.6.9"
        }
    },
    "nbformat": 4,
    "nbformat_minor": 1
}